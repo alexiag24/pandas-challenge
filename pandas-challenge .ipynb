{
 "cells": [
  {
   "cell_type": "markdown",
   "metadata": {},
   "source": [
    "# PyCity Schools Analysis\n",
    "\n",
    "- Your analysis here\n",
    "  \n",
    "---"
   ]
  },
  {
   "cell_type": "code",
   "execution_count": null,
   "metadata": {},
   "outputs": [],
   "source": [
    "# Dependencies and Setup\n",
    "import pandas as pd\n",
    "from pathlib import Path\n",
    "\n",
    "# File to Load (Remember to Change These)\n",
    "school_data_to_load = Path(\"Resources/schools_complete.csv\")\n",
    "student_data_to_load = Path(\"Resources/students_complete.csv\")\n",
    "\n",
    "# Read School and Student Data File and store into Pandas DataFrames\n",
    "school_data = pd.read_csv(school_data_to_load)\n",
    "student_data = pd.read_csv(student_data_to_load)\n",
    "\n",
    "# Combine the data into a single dataset.  \n",
    "school_data_complete = pd.merge(student_data, school_data, how=\"left\", on=[\"school_name\", \"school_name\"])\n",
    "school_data_complete.head()"
   ]
  },
  {
   "cell_type": "markdown",
   "metadata": {},
   "source": [
    "## District Summary"
   ]
  },
  {
   "cell_type": "code",
   "execution_count": null,
   "metadata": {},
   "outputs": [],
   "source": [
    "# Calculate the total number of unique schools\n",
    "C_school_count = len(Resources/PyCitySchools_starter_df.school_name.unique())\n"
   ]
  },
  {
   "cell_type": "code",
   "execution_count": null,
   "metadata": {},
   "outputs": [],
   "source": [
    "# Calculate the total number of students\n",
    "C_student_count = PyCitySchools_starter_df.student_name.count()\n"
   ]
  },
  {
   "cell_type": "code",
   "execution_count": null,
   "metadata": {},
   "outputs": [],
   "source": [
    "# Calculate the total budget\n",
    "C_total_budget = school_data_df.budget.agg('sum') \n"
   ]
  },
  {
   "cell_type": "code",
   "execution_count": null,
   "metadata": {},
   "outputs": [],
   "source": [
    "# Calculate the average (mean) math score\n",
    "C_avg_math = PyCitySchools_starter_df.math_score.agg('mean')\n"
   ]
  },
  {
   "cell_type": "code",
   "execution_count": null,
   "metadata": {},
   "outputs": [],
   "source": [
    "# Calculate the average (mean) reading score\n",
    "C_avg_reading = PyCitySchools_starter_df.reading_score.mean()\n"
   ]
  },
  {
   "cell_type": "code",
   "execution_count": null,
   "metadata": {},
   "outputs": [],
   "source": [
    "# Use the following to calculate the percentage of students who passed math (math scores greather than or equal to 70)\n",
    "pass_math_filter_df = PyCitySchools_starter_df[PyCitySchools_starter_df.math_score >= 70]\n",
    "pass_reading_filter_df = PyCitySchools_starter_df[PyCitySchools_starter_df.reading_score >= 70]"
   ]
  },
  {
   "cell_type": "code",
   "execution_count": null,
   "metadata": {},
   "outputs": [],
   "source": [
    "# Calculate the percentage of students who passed reading (hint: look at how the math percentage was calculated)  \n",
    "passing_reading_count = pass_reading_filter_df.student_name.count()\n"
   ]
  },
  {
   "cell_type": "code",
   "execution_count": null,
   "metadata": {},
   "outputs": [],
   "source": [
    "# Use the following to calculate the percentage of students that passed math and reading\n",
    "C_passing_math_percentage = passing_math_count/float(C_student_count)*100\n",
    "\n",
    "C_passing_reading_percentage = passing_reading_count/float(C_student_count)*100\n",
    "\n",
    "C_overall_passing_percentage = (C_passing_math_percentage + C_passing_reading_percentage) /2\n"
   ]
  },
  {
   "cell_type": "code",
   "execution_count": null,
   "metadata": {},
   "outputs": [],
   "source": [
    "# Create a high-level snapshot of the district's key metrics in a DataFrame\n",
    "Challenge_district_summary_df = pd.DataFrame([{\"Total Schools\": C_school_count,\n",
    "                      \"Total Students\": C_student_count,\n",
    "                      \"Total Budget\": C_total_budget,\n",
    "                      \"Average Math Score\": C_avg_math,\n",
    "                      \"Average Reading Score\": C_avg_reading,\n",
    "                      \"% Passing Math\": C_passing_math_percentage,\n",
    "                      \"% Passing Reading\": C_passing_reading_percentage,\n",
    "                      \"% Overall Passing\": C_overall_passing_percentage}])\n",
    "\n",
    "\n",
    "# Formatting\n",
    "Challenge_district_summary_df[\"Total Students\"] = Challenge_district_summary_df[\"Total Students\"].map(\"{:,}\".format)\n",
    "Challenge_district_summary_df[\"Total Budget\"] = Challenge_district_summary_df[\"Total Budget\"].map(\"${:,.2f}\".format)\n",
    "Challenge_district_summary_df[\"Average Math Score\"] = Challenge_district_summary_df[\"Average Math Score\"].map(\"{:.1f}\".format)\n",
    "Challenge_district_summary_df[\"Average Reading Score\"] = Challenge_district_summary_df[\"Average Reading Score\"].map(\"{:.1f}\".format)\n",
    "Challenge_district_summary_df[\"% Passing Math\"] = Challenge_district_summary_df[\"% Passing Math\"].map(\"{:.0f}\".format)\n",
    "Challenge_district_summary_df[\"% Passing Reading\"] = Challenge_district_summary_df[\"% Passing Reading\"].map(\"{:.0f}\".format)\n",
    "Challenge_district_summary_df[\"% Overall Passing\"] = Challenge_district_summary_df[\"% Overall Passing\"].map(\"{:.0f}\".format)\n",
    "\n",
    "# Display the DataFrame\n",
    "Challenge_district_summary_df\n"
   ]
  },
  {
   "cell_type": "markdown",
   "metadata": {},
   "source": [
    "## School Summary"
   ]
  },
  {
   "cell_type": "code",
   "execution_count": null,
   "metadata": {},
   "outputs": [],
   "source": [
    "# Use the code provided to select all of the school types\n",
    "C_per_school_types_Series=school_data_df.set_index(['school_name']).type\n"
   ]
  },
  {
   "cell_type": "code",
   "execution_count": null,
   "metadata": {},
   "outputs": [],
   "source": [
    "# Calculate the total student count per school\n",
    "C_per_school_student_count_series = PyCitySchools_starter_df['school_name'].value_counts()\n"
   ]
  },
  {
   "cell_type": "code",
   "execution_count": null,
   "metadata": {},
   "outputs": [],
   "source": [
    "# Calculate the total school budget and per capita spending per school\n",
    "C_per_school_budget_Series=school_data_df.set_index(['school_name'])['budget']\n",
    "C_per_school_capita_Series = C_per_school_budget_Series/C_per_school_size_Series\n"
   ]
  },
  {
   "cell_type": "code",
   "execution_count": null,
   "metadata": {},
   "outputs": [],
   "source": [
    "# Calculate the average test scores per school\n",
    "C_per_school_grp_math = PyCitySchools_starter_df.groupby(['school_name']).math_score.agg('mean')\n",
    "C_per_school_grp_reading = PyCitySchools_starter_df.groupby(['school_name']).reading_score.mean()\n"
   ]
  },
  {
   "cell_type": "code",
   "execution_count": null,
   "metadata": {},
   "outputs": [],
   "source": [
    "# Calculate the number of students per school with math scores of 70 or higher\n",
    "C_pass_math_filter_df = PyCitySchools_starter_df[PyCitySchools_starter_df.math_score >= 70]\n",
    "C_per_school_passing_math = C_per_school_passingMath_grp_Series/C_per_school_size_Series * 100\n"
   ]
  },
  {
   "cell_type": "code",
   "execution_count": null,
   "metadata": {},
   "outputs": [],
   "source": [
    "# Calculate the number of students per school with reading scores of 70 or higher\n",
    "C_per_school_grp_reading = PyCitySchools_starter_df.groupby(['school_name']).reading_score.mean()\n",
    "C_per_school_passing_reading = C_per_school_passingReading_grp_Series/C_per_school_size_Series * 100\n"
   ]
  },
  {
   "cell_type": "code",
   "execution_count": null,
   "metadata": {},
   "outputs": [],
   "source": [
    "# Use the provided code to calculate the number of students per school that passed both math and reading with scores of 70 or higher\n",
    "students_passing_math_and_reading = school_data_complete[\n",
    "    (school_data_complete[\"reading_score\"] >= 70) & (school_data_complete[\"math_score\"] >= 70)\n",
    "]\n",
    "school_students_passing_math_and_reading = students_passing_math_and_reading.groupby([\"school_name\"]).size()"
   ]
  },
  {
   "cell_type": "code",
   "execution_count": null,
   "metadata": {},
   "outputs": [],
   "source": [
    "# Use the provided code to calculate the passing rates\n",
    "per_school_passing_math = school_students_passing_math / per_school_counts * 100\n",
    "per_school_passing_reading = school_students_passing_reading / per_school_counts * 100\n",
    "overall_passing_rate = school_students_passing_math_and_reading / per_school_counts * 100"
   ]
  },
  {
   "cell_type": "code",
   "execution_count": null,
   "metadata": {},
   "outputs": [],
   "source": [
    "# Create a DataFrame called `per_school_summary` with columns for the calculations above.\n",
    "per_school_summary = \n",
    "\n",
    "# Formatting\n",
    "per_school_summary[\"Total School Budget\"] = per_school_summary[\"Total School Budget\"].map(\"${:,.2f}\".format)\n",
    "per_school_summary[\"Per Student Budget\"] = per_school_summary[\"Per Student Budget\"].map(\"${:,.2f}\".format)\n",
    "\n",
    "# Display the DataFrame\n",
    "per_school_summary"
   ]
  },
  {
   "cell_type": "markdown",
   "metadata": {},
   "source": [
    "## Highest-Performing Schools (by % Overall Passing)"
   ]
  },
  {
   "cell_type": "code",
   "execution_count": null,
   "metadata": {
    "scrolled": true
   },
   "outputs": [],
   "source": [
    "# Sort the schools by `% Overall Passing` in descending order and display the top 5 rows.\n",
    "Challenge_top_schools_df = PyCitySchools_starter_df.sort_values(['% Overall Passing'], ascending = False)\n",
    "Challenge_top_schools_df.head()\n",
    "\n",
    "top_schools_df = per_school_summary_df.sort_values(['% Overall Passing'], ascending = False)\n",
    "top_schools_df.head()"
   ]
  },
  {
   "cell_type": "markdown",
   "metadata": {},
   "source": [
    "## Bottom Performing Schools (By % Overall Passing)"
   ]
  },
  {
   "cell_type": "code",
   "execution_count": null,
   "metadata": {},
   "outputs": [],
   "source": [
    "# Sort the schools by `% Overall Passing` in ascending order and display the top 5 rows.\n",
    "Challenge_bottom_schools_df = PyCitySchools_starter_df.sort_values(['% Overall Passing'])\n",
    "Challenge_bottom_schools_df.head()\n",
    "\n",
    "bottom_schools_df = per_school_summary_df.sort_values(['% Overall Passing'])\n",
    "bottom_schools_df.head()"
   ]
  },
  {
   "cell_type": "markdown",
   "metadata": {},
   "source": [
    "## Math Scores by Grade"
   ]
  },
  {
   "cell_type": "code",
   "execution_count": null,
   "metadata": {},
   "outputs": [],
   "source": [
    "#Math Scores \n",
    "complete_9th_filtered_df = school_data_complete_df[(school_data_complete_df.grade == '9th')]\n",
    "complete_10th_filtered_df = school_data_complete_df[(school_data_complete_df.grade == '10th')]\n",
    "complete_11th_filtered_df = school_data_complete_df[(school_data_complete_df.grade == '11th')]\n",
    "complete_12th_filtered_df = school_data_complete_df[(school_data_complete_df.grade == '12th')]\n",
    "\n",
    "\n",
    "#retrieve average math and reeading score Series groupby school name\n",
    "grade9th_math_school_grp_Series = complete_9th_filtered_df.groupby(['school_name']).mean()['math_score']\n",
    "grade10th_math_school_grp_Series = complete_10th_filtered_df.groupby(['school_name']).mean()['math_score']\n",
    "grade11th_math_school_grp_Series = complete_11th_filtered_df.groupby(['school_name']).mean()['math_score']\n",
    "grade12th_math_school_grp_Series = complete_12th_filtered_df.groupby(['school_name']).mean()['math_score']\n",
    "\n",
    "grade9th_reading_school_grp_Series = complete_9th_filtered_df.groupby(['school_name']).mean()['reading_score']\n",
    "grade10th_reading_school_grp_Series = complete_10th_filtered_df.groupby(['school_name']).mean()['reading_score']\n",
    "grade11th_reading_school_grp_Series = complete_11th_filtered_df.groupby(['school_name']).mean()['reading_score']\n",
    "grade12th_reading_school_grp_Series = complete_12th_filtered_df.groupby(['school_name']).mean()['reading_score']\n",
    "\n",
    "#Create a new DataFrame for average math score received by students in each grade level at each school\n",
    "grade_math_summary_df = pd.DataFrame({'9th':grade9th_math_school_grp_Series.map('{:.1f}'.format),\n",
    "                            '10th':grade10th_math_school_grp_Series.map('{:.1f}'.format),\n",
    "                            '11th':grade11th_math_school_grp_Series.map('{:.1f}'.format),\n",
    "                            '12th':grade12th_math_school_grp_Series.map('{:.1f}'.format)})\n",
    "# remove index column's name\n",
    "grade_math_summary_df.index.name = None\n",
    "grade_math_summary_df"
   ]
  },
  {
   "cell_type": "markdown",
   "metadata": {},
   "source": [
    "## Reading Score by Grade "
   ]
  },
  {
   "cell_type": "code",
   "execution_count": null,
   "metadata": {},
   "outputs": [],
   "source": [
    "# Use the code provided to separate the data by grade\n",
    "#Reading Score\n",
    "Challenge_grade_reading_summary_df = pd.DataFrame({'9th':C_grade9th_reading_school_grp_Series.map('{:.1f}'.format),\n",
    "                            '10th':C_grade10th_reading_school_grp_Series.map('{:.1f}'.format),\n",
    "                            '11th':C_grade11th_reading_school_grp_Series.map('{:.1f}'.format),\n",
    "                            '12th':C_grade12th_reading_school_grp_Series.map('{:.1f}'.format)})\n",
    "Challenge_grade_reading_summary_df.index.name = None                            \n",
    "Challenge_grade_reading_summary_df\n",
    "\n",
    "grade_reading_summary_df = pd.DataFrame({'9th':grade9th_reading_school_grp_Series.map('{:.1f}'.format),\n",
    "                            '10th':grade10th_reading_school_grp_Series.map('{:.1f}'.format),\n",
    "                            '11th':grade11th_reading_school_grp_Series.map('{:.1f}'.format),\n",
    "                            '12th':grade12th_reading_school_grp_Series.map('{:.1f}'.format)})\n",
    "grade_reading_summary_df.index.name = None                            \n",
    "grade_reading_summary_df\n"
   ]
  },
  {
   "cell_type": "markdown",
   "metadata": {},
   "source": [
    "## Scores by School Spending"
   ]
  },
  {
   "cell_type": "code",
   "execution_count": null,
   "metadata": {},
   "outputs": [],
   "source": [
    "# Establish the bins \n",
    "#School Spending \n",
    "spending_bins = [0,585,630,645,675]\n",
    "group_names = [\"<$584\", \"$585-629\", \"$630-644\", \"$645-675\"]\n"
   ]
  },
  {
   "cell_type": "code",
   "execution_count": null,
   "metadata": {},
   "outputs": [],
   "source": [
    "#cut budget per student Series into 4 bins, and labeled as group_names\n",
    "C_cutted_capita_categorical_S = pd.cut(C_per_school_capita_Series,spending_bins, labels=group_names)\n"
   ]
  },
  {
   "cell_type": "code",
   "execution_count": null,
   "metadata": {},
   "outputs": [],
   "source": [
    "# Use `pd.cut` to categorize spending based on the bins.\n",
    "# add 'Spending Ranges(per student)'Series into dataframe\n",
    "Challenge_per_school_summary_df['Spending Ranges (Per Student)'] = pd.Series(C_cutted_capita_categorical_S)\n"
   ]
  },
  {
   "cell_type": "code",
   "execution_count": null,
   "metadata": {},
   "outputs": [],
   "source": [
    "#  Calculate averages for the desired columns. \n",
    "#retrieve Series groupby 'Spending Ranges(per student)' in the same dataframe\n",
    "C_spending_math_scores_Series = Challenge_per_school_summary_df.groupby(['Spending Ranges (Per Student)'])['Average Math Score'].agg('mean')\n",
    "C_spending_reading_scores_Series = Challenge_per_school_summary_df.groupby(['Spending Ranges (Per Student)'])['Average Reading Score'].agg('mean')\n",
    "C_spending_passing_math_Series =Challenge_per_school_summary_df.groupby(['Spending Ranges (Per Student)'])['% Passing Math'].agg('mean')\n",
    "C_spending_passing_reading_Series =Challenge_per_school_summary_df.groupby(['Spending Ranges (Per Student)'])['% Passing Reading'].agg('mean')\n",
    "C_Spending_overall_passing_percentage_Series = (C_spending_passing_math_Series + C_spending_passing_reading_Series) /2\n"
   ]
  },
  {
   "cell_type": "code",
   "execution_count": null,
   "metadata": {},
   "outputs": [],
   "source": [
    "# Assemble into DataFrame\n",
    "# add Series into a new dataframe, row label as 'Spending Ranges(per student)'\n",
    "Challenge_spending_school_summary_df = pd.DataFrame({\"Average Math Score\" : C_spending_math_scores_Series.map('{:.1f}'.format),\n",
    "          \"Average Reading Score\": C_spending_reading_scores_Series.map('{:.1f}'.format),\n",
    "          \"% Passing Math\": C_spending_passing_math_Series.map('{:.0f}'.format),\n",
    "          \"% Passing Reading\": C_spending_passing_reading_Series.map('{:.0f}'.format),\n",
    "          \"% Overall Passing\": C_Spending_overall_passing_percentage_Series.map('{:.0f}'.format)})\n",
    "\n",
    "Challenge_spending_school_summary_df\n"
   ]
  },
  {
   "cell_type": "markdown",
   "metadata": {},
   "source": [
    "## Scores by School Size"
   ]
  },
  {
   "cell_type": "code",
   "execution_count": null,
   "metadata": {},
   "outputs": [],
   "source": [
    "# Establish the bins.\n",
    "size_bins = [0, 1000, 2000, 5000]\n",
    "size_bins_labels = ['Small(<1000)','Medium (1000-2000)','Large (2000-5000)']\n",
    "cutted_size_categorical_S = pd.cut( per_school_summary_df['Total Students'],size_bins, labels= size_bins_labels)\n"
   ]
  },
  {
   "cell_type": "code",
   "execution_count": null,
   "metadata": {},
   "outputs": [],
   "source": [
    "# Categorize the spending based on the bins\n",
    "# Use `pd.cut` on the \"Total Students\" column of the `per_school_summary` DataFrame.\n",
    "\n",
    "per_school_summary_df['School Size Bins'] = pd.Series(cutted_size_categorical_S)\n"
   ]
  },
  {
   "cell_type": "code",
   "execution_count": null,
   "metadata": {},
   "outputs": [],
   "source": [
    "# Calculate averages for the desired columns. \n",
    "#retrieve Series groupby 'School Size Bins' in the same dataframe\n",
    "sizeBins_math_scores_Series = per_school_summary_df.groupby(['School Size Bins'])['Average Math Score'].agg('mean')\n",
    "sizeBins_reading_scores_Series = per_school_summary_df.groupby(['School Size Bins'])['Average Reading Score'].agg('mean')\n",
    "sizeBins_passing_math_Series = per_school_summary_df.groupby(['School Size Bins'])['% Passing Math'].agg('mean')\n",
    "sizeBins_passing_reading_Series = per_school_summary_df.groupby(['School Size Bins'])['% Passing Reading'].agg('mean')\n",
    "sizeBins_overall_passing_percentage_Series = (sizeBins_passing_math_Series + sizeBins_passing_reading_Series) /2\n"
   ]
  },
  {
   "cell_type": "code",
   "execution_count": null,
   "metadata": {
    "scrolled": true
   },
   "outputs": [],
   "source": [
    "# Create a DataFrame called `size_summary` that breaks down school performance based on school size (small, medium, or large).\n",
    "# Use the scores above to create a new DataFrame called `size_summary`\n",
    "# add Series into a new dataframe, row labels as 'School Size Bins'\n",
    "size_school_summary_df = pd.DataFrame({\"Average Math Score\" : sizeBins_math_scores_Series.map('{:.1f}'.format),\n",
    "          \"Average Reading Score\": sizeBins_reading_scores_Series.map('{:.1f}'.format),\n",
    "          \"% Passing Math\": sizeBins_passing_math_Series.map('{:.0f}'.format),\n",
    "          \"% Passing Reading\": sizeBins_passing_reading_Series.map('{:.0f}'.format),\n",
    "          \"% Overall Passing\": sizeBins_overall_passing_percentage_Series.map('{:.0f}'.format)})\n",
    "\n",
    "size_school_summary_df\n"
   ]
  },
  {
   "cell_type": "markdown",
   "metadata": {},
   "source": [
    "## Scores by School Type"
   ]
  },
  {
   "cell_type": "code",
   "execution_count": null,
   "metadata": {},
   "outputs": [],
   "source": [
    "# Group the per_school_summary DataFrame by \"School Type\" and average the results.\n",
    "C_type_math_scores_Series = Challenge_per_school_summary_df.groupby([\"School Type\"]).mean()[\"Average Math Score\"]\n",
    "C_type_reading_scores_Series = Challenge_per_school_summary_df.groupby([\"School Type\"]).mean()[\"Average Reading Score\"]\n",
    "C_type_passing_math_Series = Challenge_per_school_summary_df.groupby([\"School Type\"]).mean()[\"% Passing Math\"]\n",
    "C_type_passing_reading_Series = Challenge_per_school_summary_df.groupby([\"School Type\"]).mean()[\"% Passing Reading\"]\n",
    "C_type_overall_passing_Series = (C_type_passing_math_Series + C_type_passing_reading_Series) / 2\n"
   ]
  },
  {
   "cell_type": "code",
   "execution_count": null,
   "metadata": {},
   "outputs": [],
   "source": [
    "# Assemble the new data by type into a DataFrame called `type_summary`\n",
    "# add Series into a new dataframe, row labels as 'School Type\n",
    "Challenge_type_school_summary_df = pd.DataFrame({\"Average Math Score\" : C_type_math_scores_Series.map('{:.1f}'.format),\n",
    "          \"Average Reading Score\": C_type_reading_scores_Series.map('{:.1f}'.format),\n",
    "          \"% Passing Math\": C_type_passing_math_Series.map('{:.0f}'.format),\n",
    "          \"% Passing Reading\": C_type_passing_reading_Series.map('{:.0f}'.format),\n",
    "          \"% Overall Passing\": C_type_overall_passing_Series.map('{:.0f}'.format)})\n",
    "\n",
    "Challenge_type_school_summary_df"
   ]
  },
  {
   "cell_type": "code",
   "execution_count": null,
   "metadata": {},
   "outputs": [],
   "source": []
  }
 ],
 "metadata": {
  "anaconda-cloud": {},
  "kernel_info": {
   "name": "python3"
  },
  "kernelspec": {
   "display_name": "Python 3 (ipykernel)",
   "language": "python",
   "name": "python3"
  },
  "language_info": {
   "codemirror_mode": {
    "name": "ipython",
    "version": 3
   },
   "file_extension": ".py",
   "mimetype": "text/x-python",
   "name": "python",
   "nbconvert_exporter": "python",
   "pygments_lexer": "ipython3",
   "version": "3.10.9"
  },
  "latex_envs": {
   "LaTeX_envs_menu_present": true,
   "autoclose": false,
   "autocomplete": true,
   "bibliofile": "biblio.bib",
   "cite_by": "apalike",
   "current_citInitial": 1,
   "eqLabelWithNumbers": true,
   "eqNumInitial": 1,
   "hotkeys": {
    "equation": "Ctrl-E",
    "itemize": "Ctrl-I"
   },
   "labels_anchors": false,
   "latex_user_defs": false,
   "report_style_numbering": false,
   "user_envs_cfg": false
  },
  "nteract": {
   "version": "0.8.4"
  },
  "vscode": {
   "interpreter": {
    "hash": "5384d77d82de63fd599f73e77f9ec786e7719288bf80a29ec0288c670ac3cf32"
   }
  }
 },
 "nbformat": 4,
 "nbformat_minor": 4
}
